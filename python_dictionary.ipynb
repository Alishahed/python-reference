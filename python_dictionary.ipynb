{
  "nbformat": 4,
  "nbformat_minor": 0,
  "metadata": {
    "colab": {
      "provenance": [],
      "authorship_tag": "ABX9TyO4pzgnEeaf/vSyAXy8KIHF",
      "include_colab_link": true
    },
    "kernelspec": {
      "name": "python3",
      "display_name": "Python 3"
    },
    "language_info": {
      "name": "python"
    }
  },
  "cells": [
    {
      "cell_type": "markdown",
      "metadata": {
        "id": "view-in-github",
        "colab_type": "text"
      },
      "source": [
        "<a href=\"https://colab.research.google.com/github/Alishahed/python-reference/blob/main/python_dictionary.ipynb\" target=\"_parent\"><img src=\"https://colab.research.google.com/assets/colab-badge.svg\" alt=\"Open In Colab\"/></a>"
      ]
    },
    {
      "cell_type": "markdown",
      "source": [
        "# Dictionaries\n",
        "### Methods and tricks"
      ],
      "metadata": {
        "id": "X5AQgPxkgXRi"
      }
    },
    {
      "cell_type": "code",
      "execution_count": 61,
      "metadata": {
        "colab": {
          "base_uri": "https://localhost:8080/"
        },
        "id": "UORYVlweeAqp",
        "outputId": "14ceb9f5-0c2c-4e30-d825-99586e8909fd"
      },
      "outputs": [
        {
          "output_type": "stream",
          "name": "stdout",
          "text": [
            "{}\n",
            "{'a': 0}\n",
            "{'a': 0, 'b': 1, 'c': 2, 'd': 3, 'e': 4, 'f': 5}\n",
            "6\n"
          ]
        }
      ],
      "source": [
        "# initialize an empty and add items to it\n",
        "dict1 = {}\n",
        "print(dict1)\n",
        "dict1['a'] = 0\n",
        "print(dict1)\n",
        "dict1 = dict(zip('abcdef',range(6)))\n",
        "print(dict1)\n",
        "print(len(dict1))"
      ]
    },
    {
      "cell_type": "code",
      "source": [
        "# pop item in the dictionary with certian key value\n",
        "dict1.pop('b')\n",
        "print(dict1)"
      ],
      "metadata": {
        "id": "L87F6LP9hZkI",
        "colab": {
          "base_uri": "https://localhost:8080/"
        },
        "outputId": "b5a453a5-3112-476c-cc48-af03b7e36983"
      },
      "execution_count": 62,
      "outputs": [
        {
          "output_type": "stream",
          "name": "stdout",
          "text": [
            "{'a': 0, 'c': 2, 'd': 3, 'e': 4, 'f': 5}\n"
          ]
        }
      ]
    },
    {
      "cell_type": "code",
      "source": [
        "# access all the keys, values or items\n",
        "print(dict1.keys())\n",
        "print(dict1.values())\n",
        "print(dict1.items())\n",
        "print(dict1)"
      ],
      "metadata": {
        "colab": {
          "base_uri": "https://localhost:8080/"
        },
        "id": "Z6nAmjx49QMW",
        "outputId": "4842086c-9571-4275-c7d3-1e1ba1f35b9c"
      },
      "execution_count": 63,
      "outputs": [
        {
          "output_type": "stream",
          "name": "stdout",
          "text": [
            "dict_keys(['a', 'c', 'd', 'e', 'f'])\n",
            "dict_values([0, 2, 3, 4, 5])\n",
            "dict_items([('a', 0), ('c', 2), ('d', 3), ('e', 4), ('f', 5)])\n",
            "{'a': 0, 'c': 2, 'd': 3, 'e': 4, 'f': 5}\n"
          ]
        }
      ]
    },
    {
      "cell_type": "code",
      "source": [
        "# update on of the values for certain keys\n",
        "dict1.update({'a':13})\n",
        "print(dict1)"
      ],
      "metadata": {
        "colab": {
          "base_uri": "https://localhost:8080/"
        },
        "id": "XpcALFEC95eX",
        "outputId": "27be913f-c27f-410c-cacb-c6aa19b79814"
      },
      "execution_count": 64,
      "outputs": [
        {
          "output_type": "stream",
          "name": "stdout",
          "text": [
            "{'a': 13, 'c': 2, 'd': 3, 'e': 4, 'f': 5}\n"
          ]
        }
      ]
    },
    {
      "cell_type": "code",
      "source": [
        "# shallow copy of a dictionary\n",
        "dict1_copy = dict1.copy()\n",
        "print(dict1)\n",
        "print(dict1_copy)"
      ],
      "metadata": {
        "colab": {
          "base_uri": "https://localhost:8080/"
        },
        "id": "k8HqMIOY-bAU",
        "outputId": "12cd792d-5948-424f-aca1-7d4bdc7115e4"
      },
      "execution_count": 65,
      "outputs": [
        {
          "output_type": "stream",
          "name": "stdout",
          "text": [
            "{'a': 13, 'c': 2, 'd': 3, 'e': 4, 'f': 5}\n",
            "{'a': 13, 'c': 2, 'd': 3, 'e': 4, 'f': 5}\n"
          ]
        }
      ]
    },
    {
      "cell_type": "code",
      "source": [
        "# When assigning dictionary to another value, changing one, changes the other\n",
        "# one\n",
        "dict2 = dict1\n",
        "dict2.pop('c')\n",
        "print(dict1)\n",
        "print(dict2)"
      ],
      "metadata": {
        "colab": {
          "base_uri": "https://localhost:8080/"
        },
        "id": "nJYlh6KpooEI",
        "outputId": "ea3fb571-5479-4cc7-f43a-21e84238a1a1"
      },
      "execution_count": 66,
      "outputs": [
        {
          "output_type": "stream",
          "name": "stdout",
          "text": [
            "{'a': 13, 'd': 3, 'e': 4, 'f': 5}\n",
            "{'a': 13, 'd': 3, 'e': 4, 'f': 5}\n"
          ]
        }
      ]
    },
    {
      "cell_type": "code",
      "source": [
        "# pop a key and value from a dictionary\n",
        "dict1.pop('f')\n",
        "print(dict1)\n",
        "print(dict1_copy)"
      ],
      "metadata": {
        "colab": {
          "base_uri": "https://localhost:8080/"
        },
        "id": "1Jeqrii8h46I",
        "outputId": "e6fd6001-af0d-40f7-e59d-55b35148fb5a"
      },
      "execution_count": 67,
      "outputs": [
        {
          "output_type": "stream",
          "name": "stdout",
          "text": [
            "{'a': 13, 'd': 3, 'e': 4}\n",
            "{'a': 13, 'c': 2, 'd': 3, 'e': 4, 'f': 5}\n"
          ]
        }
      ]
    },
    {
      "cell_type": "code",
      "source": [
        "# add a key and value to a dictionary\n",
        "dict1_copy.update({'b':45})\n",
        "print(dict1)\n",
        "print(dict1_copy)"
      ],
      "metadata": {
        "colab": {
          "base_uri": "https://localhost:8080/"
        },
        "id": "msqSIC1riVnp",
        "outputId": "f246dff1-7ac8-43fa-c95b-f04ae976482f"
      },
      "execution_count": 68,
      "outputs": [
        {
          "output_type": "stream",
          "name": "stdout",
          "text": [
            "{'a': 13, 'd': 3, 'e': 4}\n",
            "{'a': 13, 'c': 2, 'd': 3, 'e': 4, 'f': 5, 'b': 45}\n"
          ]
        }
      ]
    },
    {
      "cell_type": "code",
      "source": [
        "# sort the items based on keys. Returns list of sorted key\n",
        "dict1_copy_sorted = sorted(dict1_copy)\n",
        "print(dict1_copy_sorted)"
      ],
      "metadata": {
        "colab": {
          "base_uri": "https://localhost:8080/"
        },
        "id": "7y1TK2fcikOh",
        "outputId": "69fcfbcd-5694-4edf-dd32-3b8fc0ea0c51"
      },
      "execution_count": 69,
      "outputs": [
        {
          "output_type": "stream",
          "name": "stdout",
          "text": [
            "['a', 'b', 'c', 'd', 'e', 'f']\n"
          ]
        }
      ]
    },
    {
      "cell_type": "code",
      "source": [
        "# sort the items based on keys. Returns list of sorted key\n",
        "dict1_copy_sorted = sorted(dict1_copy,key= dict1_copy.__getitem__)\n",
        "print(dict1_copy_sorted)"
      ],
      "metadata": {
        "colab": {
          "base_uri": "https://localhost:8080/"
        },
        "id": "invLvUlki24A",
        "outputId": "572afa35-80a8-44db-a034-a9d9f710b0f1"
      },
      "execution_count": 70,
      "outputs": [
        {
          "output_type": "stream",
          "name": "stdout",
          "text": [
            "['c', 'd', 'e', 'f', 'a', 'b']\n"
          ]
        }
      ]
    },
    {
      "cell_type": "code",
      "source": [
        "# Sort a dictionary based on keys and return the sorted dictionary\n",
        "dict1_copy_sorted = sorted(dict1_copy.items())\n",
        "print(dict1_copy_sorted)"
      ],
      "metadata": {
        "colab": {
          "base_uri": "https://localhost:8080/"
        },
        "id": "IXe-9b40nE0l",
        "outputId": "66a82904-4a3f-482d-e976-16bc2f7a4f4b"
      },
      "execution_count": 71,
      "outputs": [
        {
          "output_type": "stream",
          "name": "stdout",
          "text": [
            "[('a', 13), ('b', 45), ('c', 2), ('d', 3), ('e', 4), ('f', 5)]\n"
          ]
        }
      ]
    },
    {
      "cell_type": "code",
      "source": [
        "# Sort a dictionary based on values and return the sorted dictionary\n",
        "dict1_copy_sorted = sorted(dict1_copy.items(),key=lambda item:item[1])\n",
        "print(dict1_copy_sorted)"
      ],
      "metadata": {
        "colab": {
          "base_uri": "https://localhost:8080/"
        },
        "id": "myWXorU9oNGR",
        "outputId": "ffff3db1-6b92-4bdc-bf4f-fa0ec1f06662"
      },
      "execution_count": 72,
      "outputs": [
        {
          "output_type": "stream",
          "name": "stdout",
          "text": [
            "[('c', 2), ('d', 3), ('e', 4), ('f', 5), ('a', 13), ('b', 45)]\n"
          ]
        }
      ]
    },
    {
      "cell_type": "code",
      "source": [],
      "metadata": {
        "id": "-6CmgNFToaT4"
      },
      "execution_count": 72,
      "outputs": []
    }
  ]
}