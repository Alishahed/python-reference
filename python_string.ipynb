{
  "nbformat": 4,
  "nbformat_minor": 0,
  "metadata": {
    "colab": {
      "provenance": [],
      "authorship_tag": "ABX9TyOeM2ZIgAlh/hgZ2kdzwPZJ",
      "include_colab_link": true
    },
    "kernelspec": {
      "name": "python3",
      "display_name": "Python 3"
    },
    "language_info": {
      "name": "python"
    }
  },
  "cells": [
    {
      "cell_type": "markdown",
      "metadata": {
        "id": "view-in-github",
        "colab_type": "text"
      },
      "source": [
        "<a href=\"https://colab.research.google.com/github/Alishahed/python-reference/blob/main/python_string.ipynb\" target=\"_parent\"><img src=\"https://colab.research.google.com/assets/colab-badge.svg\" alt=\"Open In Colab\"/></a>"
      ]
    },
    {
      "cell_type": "markdown",
      "source": [
        "# Immutable vs mutable objects\n",
        "### Immutable\n",
        "These object can't be changed after creation and when they are modified, they return a value that can be saved in another variable.\n",
        "These objects are immutable:\n",
        "- integers\n",
        "- floats\n",
        "- strings\n",
        "- tuples\n",
        "- frozensets\n",
        "- Booleans\n",
        "- complex numbers\n",
        "\n",
        "### Mutable\n",
        "These objects can be changed after creation and they have methods for that like insert() or pop().\n",
        "These objects are mutable in python:\n",
        "- lists\n",
        "- dictionaries\n",
        "- sets\n",
        "- byte arrays\n",
        "- objects in user-defined classes\n",
        "\n",
        "\n"
      ],
      "metadata": {
        "id": "ELkFR3bXuqIn"
      }
    },
    {
      "cell_type": "markdown",
      "source": [
        "# Strings\n",
        "### Methods"
      ],
      "metadata": {
        "id": "gYJ84E5yuB8K"
      }
    },
    {
      "cell_type": "code",
      "execution_count": null,
      "metadata": {
        "colab": {
          "base_uri": "https://localhost:8080/"
        },
        "id": "loNCR9ZNp51K",
        "outputId": "1d9b7978-1c81-4849-8f81-4ba47c700e9c"
      },
      "outputs": [
        {
          "output_type": "stream",
          "name": "stdout",
          "text": [
            "aLI SHAHED HAGH GHADAM\n",
            "ali shahed hagh ghadam\n",
            "Ali shahed hagh ghadam\n"
          ]
        }
      ],
      "source": [
        "# Manipulating the cases in the string\n",
        "s = \"Ali shahed hagh ghadam\"\n",
        "s= s.swapcase()\n",
        "print(s)\n",
        "s = s.lower()\n",
        "print(s)\n",
        "s = s.capitalize()\n",
        "print(s)"
      ]
    },
    {
      "cell_type": "code",
      "source": [
        "# Counts number of substrings in the between *start* and *end*\n",
        "s = \"ali shahed hagh ghadam\"\n",
        "out = s.count('ed',0,len(s))\n",
        "print(out)"
      ],
      "metadata": {
        "colab": {
          "base_uri": "https://localhost:8080/"
        },
        "id": "ET6b-vz6uWkT",
        "outputId": "fefa96c1-dd38-49fb-9dc6-70ad078a43d4"
      },
      "execution_count": null,
      "outputs": [
        {
          "output_type": "stream",
          "name": "stdout",
          "text": [
            "1\n"
          ]
        }
      ]
    },
    {
      "cell_type": "code",
      "source": [
        "# return True if the string ends with <substr>\n",
        "s = \"ali shahed hagh ghadam\"\n",
        "out = s.endswith('am')\n",
        "print(out)"
      ],
      "metadata": {
        "colab": {
          "base_uri": "https://localhost:8080/"
        },
        "id": "fY8uysi6ubRu",
        "outputId": "53cfeae6-a934-4cbb-9e75-7beb76f55be3"
      },
      "execution_count": null,
      "outputs": [
        {
          "output_type": "stream",
          "name": "stdout",
          "text": [
            "True\n"
          ]
        }
      ]
    },
    {
      "cell_type": "code",
      "source": [
        "# Returns the first instance of the substring\n",
        "s = \"ali shahed hagh ghadam\"\n",
        "out = s.find('sha')\n",
        "print(out)"
      ],
      "metadata": {
        "colab": {
          "base_uri": "https://localhost:8080/"
        },
        "id": "uM3kl5QwyyEV",
        "outputId": "dfedf96e-40ec-4734-80f1-caae890ee2c7"
      },
      "execution_count": null,
      "outputs": [
        {
          "output_type": "stream",
          "name": "stdout",
          "text": [
            "4\n"
          ]
        }
      ]
    },
    {
      "cell_type": "code",
      "source": [
        "s = \"ali shahed hagh ghadam\"\n",
        "print(s.isalnum()) # check if all chars are alphanumeric\n",
        "print(s.isalpha()) # check if all chars are alphabetics\n",
        "print(s.isdigit()) # checkif all chars numeric\n",
        "# note: If string has *spaces* or punctuaction the isalnum and isalpha return False."
      ],
      "metadata": {
        "colab": {
          "base_uri": "https://localhost:8080/"
        },
        "id": "GHDoEo78y89i",
        "outputId": "84d10455-9dee-4cbf-c8af-eb3538ef66fc"
      },
      "execution_count": null,
      "outputs": [
        {
          "output_type": "stream",
          "name": "stdout",
          "text": [
            "False\n",
            "False\n",
            "False\n"
          ]
        }
      ]
    },
    {
      "cell_type": "code",
      "source": [
        "s = \"ali shahed hagh ghadam\"\n",
        "out = s.split(\"d\")\n",
        "print(out)"
      ],
      "metadata": {
        "colab": {
          "base_uri": "https://localhost:8080/"
        },
        "id": "WP8shR_h-mLK",
        "outputId": "0b3adec0-437f-4832-b83a-2af790f3dc64"
      },
      "execution_count": null,
      "outputs": [
        {
          "output_type": "stream",
          "name": "stdout",
          "text": [
            "['ali shahe', ' hagh gha', 'am']\n"
          ]
        }
      ]
    },
    {
      "cell_type": "code",
      "source": [
        "t = \"ali shahed hagh ghadam\"\n",
        "s = \",\"\n",
        "out = s.join(t)\n",
        "print(out)\n",
        "print(type(out))"
      ],
      "metadata": {
        "colab": {
          "base_uri": "https://localhost:8080/"
        },
        "id": "hwhW4ncgAMFy",
        "outputId": "9b97eafd-9af2-4743-abe1-0b129463ed39"
      },
      "execution_count": null,
      "outputs": [
        {
          "output_type": "stream",
          "name": "stdout",
          "text": [
            "a,l,i, ,s,h,a,h,e,d, ,h,a,g,h, ,g,h,a,d,a,m\n",
            "<class 'str'>\n"
          ]
        }
      ]
    },
    {
      "cell_type": "code",
      "source": [
        "s = \"ali shahed hagh ghadami\"\n",
        "s = s.strip(\"a\")\n",
        "print(s)\n",
        "#Note: This only removes the char from leading or trailing position\n",
        "s=s.lstrip(\"l\")\n",
        "print(s)\n",
        "s= s.rstrip(\"i\")\n",
        "print(s)"
      ],
      "metadata": {
        "colab": {
          "base_uri": "https://localhost:8080/"
        },
        "id": "WfUPjz9iBulM",
        "outputId": "741c470d-0af4-4ca2-9cb3-493476b2b6a8"
      },
      "execution_count": null,
      "outputs": [
        {
          "output_type": "stream",
          "name": "stdout",
          "text": [
            "li shahed hagh ghadami\n",
            "i shahed hagh ghadami\n",
            "i shahed hagh ghadam\n"
          ]
        }
      ]
    },
    {
      "cell_type": "code",
      "source": [
        "s = \"ali shahed hagh ghadam\"\n",
        "s = s.replace(\"i\",\"*\")\n",
        "print(s)"
      ],
      "metadata": {
        "colab": {
          "base_uri": "https://localhost:8080/"
        },
        "id": "D_i_MgPVB73h",
        "outputId": "8b0cf7f5-8386-46b0-b53c-897643e10645"
      },
      "execution_count": null,
      "outputs": [
        {
          "output_type": "stream",
          "name": "stdout",
          "text": [
            "al* shahed hagh ghadam\n"
          ]
        }
      ]
    }
  ]
}