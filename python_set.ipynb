{
  "nbformat": 4,
  "nbformat_minor": 0,
  "metadata": {
    "colab": {
      "provenance": [],
      "authorship_tag": "ABX9TyNcKvHnBKVAqJsa9syHONK1",
      "include_colab_link": true
    },
    "kernelspec": {
      "name": "python3",
      "display_name": "Python 3"
    },
    "language_info": {
      "name": "python"
    }
  },
  "cells": [
    {
      "cell_type": "markdown",
      "metadata": {
        "id": "view-in-github",
        "colab_type": "text"
      },
      "source": [
        "<a href=\"https://colab.research.google.com/github/Alishahed/python-reference/blob/main/python_set.ipynb\" target=\"_parent\"><img src=\"https://colab.research.google.com/assets/colab-badge.svg\" alt=\"Open In Colab\"/></a>"
      ]
    },
    {
      "cell_type": "markdown",
      "source": [
        "# Set\n",
        "### Methods"
      ],
      "metadata": {
        "id": "j3_A9CDsKHbY"
      }
    },
    {
      "cell_type": "code",
      "execution_count": 19,
      "metadata": {
        "colab": {
          "base_uri": "https://localhost:8080/"
        },
        "id": "FeST5Or9IwMK",
        "outputId": "7211778c-ffc2-49fd-c33c-67517c9ef08d"
      },
      "outputs": [
        {
          "output_type": "stream",
          "name": "stdout",
          "text": [
            "{1}\n",
            "{1, 2}\n",
            "{1, 2, 3, 4, 5, 6, 7, 8, 9, 10}\n",
            "{1, 2, 3, 4, 6, 7, 8, 9, 10}\n",
            "{1, 2, 3, 4, 6, 7, 8, 9, 10}\n",
            "{1, 2, 3, 4, 6, 7, 9}\n"
          ]
        }
      ],
      "source": [
        "# initialize empty set\n",
        "my_set = set()\n",
        "# add an item to my_set\n",
        "my_set.add(1)\n",
        "print(my_set)\n",
        "my_set.add(2)\n",
        "print(my_set)\n",
        "# add more than one item at once\n",
        "my_set.update([3,4,5,6,7,8,9,10])\n",
        "print(my_set)\n",
        "# remove one item\n",
        "my_set.remove(5)\n",
        "print(my_set)\n",
        "# discard is similar to remove but it doesn't raise error if the element is not\n",
        "# the set.\n",
        "my_set.discard(5)\n",
        "print(my_set)\n",
        "# removing multiple items at the same time.\n",
        "my_set.difference_update([8,10])\n",
        "print(my_set)\n",
        "\n"
      ]
    },
    {
      "cell_type": "code",
      "source": [
        "set_a = set()\n",
        "set_a.update([1,2,3,4,5,6])\n",
        "print(set_a)\n",
        "set_b = set()\n",
        "set_b.update([4,5,6,7,8,9,10])\n",
        "print(set_b)\n",
        "\n",
        "# intersection of two set\n",
        "set_a.intersection(set_b)\n",
        "print(set_a) # it doesn't change set_a\n",
        "intersect_a_b = set_a.intersection(set_b)\n",
        "print(intersect_a_b)\n",
        "\n",
        "# union of two sets\n",
        "set_a.union(set_b)\n",
        "print(set_a) # it doesn't change set_a\n",
        "union_a_b = set_a.union(set_b)\n",
        "print(union_a_b)\n",
        "\n",
        "# difference of two sets\n",
        "set_a.difference(set_b)\n",
        "print(set_a) # it doesn't change set_a\n",
        "diff_a_b = set_a.difference(set_b)\n",
        "print(diff_a_b)\n",
        "diff_b_a = set_b.difference(set_a)\n",
        "print(diff_b_a)\n",
        "\n",
        "# items that are in either sets but not both\n",
        "diff_a_b_sym = set_a.symmetric_difference(set_b)\n",
        "print(diff_a_b_sym)\n",
        "\n",
        "\n"
      ],
      "metadata": {
        "colab": {
          "base_uri": "https://localhost:8080/"
        },
        "id": "dwLVzMMUK1mA",
        "outputId": "b2067c7f-230e-413b-b4d1-2daae2dc66f9"
      },
      "execution_count": 20,
      "outputs": [
        {
          "output_type": "stream",
          "name": "stdout",
          "text": [
            "{1, 2, 3, 4, 5, 6}\n",
            "{4, 5, 6, 7, 8, 9, 10}\n",
            "{1, 2, 3, 4, 5, 6}\n",
            "{4, 5, 6}\n",
            "{1, 2, 3, 4, 5, 6}\n",
            "{1, 2, 3, 4, 5, 6, 7, 8, 9, 10}\n",
            "{1, 2, 3, 4, 5, 6}\n",
            "{1, 2, 3}\n",
            "{8, 9, 10, 7}\n",
            "{1, 2, 3, 7, 8, 9, 10}\n"
          ]
        }
      ]
    },
    {
      "cell_type": "code",
      "source": [
        "set_a = set()\n",
        "set_a.update([1,4,5,6,7])\n",
        "print(set_a)\n",
        "set_b = set()\n",
        "set_b.update([4,5,6,7,8,9,10])\n",
        "print(set_b)\n",
        "# check if the intersection of the sets are empty\n",
        "is_intersection_empty = set_a.isdisjoint(set_b)\n",
        "print(is_intersection_empty)\n",
        "\n",
        "# Check if ALL elements of set_a also are set_b\n",
        "is_subset = set_a.issubset(set_b)\n",
        "print(is_subset)\n",
        "\n",
        "# Check if ALL elements of set_b also are set_a\n",
        "is_superset = set_b.issuperset(set_a)\n",
        "print(is_superset)"
      ],
      "metadata": {
        "colab": {
          "base_uri": "https://localhost:8080/"
        },
        "id": "v3zoQl0_PpN3",
        "outputId": "2a056a8b-87ff-4193-e425-928dd5982806"
      },
      "execution_count": 24,
      "outputs": [
        {
          "output_type": "stream",
          "name": "stdout",
          "text": [
            "{1, 4, 5, 6, 7}\n",
            "{4, 5, 6, 7, 8, 9, 10}\n",
            "False\n",
            "False\n",
            "False\n"
          ]
        }
      ]
    },
    {
      "cell_type": "code",
      "source": [
        "# remove items from set_a that are not in the intersection of set_aand\n",
        "#set_b\n",
        "set_a.intersection_update(set_b)\n",
        "print(set_a)\n",
        "# remove all the items that are not in symmetric_difference\n",
        "set_a.symmetric_difference_update(set_b)\n",
        "print(set_a)"
      ],
      "metadata": {
        "colab": {
          "base_uri": "https://localhost:8080/"
        },
        "id": "7zLytjobTUUy",
        "outputId": "9e3b9eee-a7c6-442f-c558-c7f7b2435a3d"
      },
      "execution_count": 26,
      "outputs": [
        {
          "output_type": "stream",
          "name": "stdout",
          "text": [
            "{4, 5, 6, 7}\n",
            "{8, 9, 10}\n"
          ]
        }
      ]
    },
    {
      "cell_type": "code",
      "source": [],
      "metadata": {
        "id": "1Bg701xrTomF"
      },
      "execution_count": null,
      "outputs": []
    }
  ]
}