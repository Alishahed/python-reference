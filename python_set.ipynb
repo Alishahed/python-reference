{
  "nbformat": 4,
  "nbformat_minor": 0,
  "metadata": {
    "colab": {
      "provenance": [],
      "authorship_tag": "ABX9TyNJnf9MP9D1z5RACTkxuoqc",
      "include_colab_link": true
    },
    "kernelspec": {
      "name": "python3",
      "display_name": "Python 3"
    },
    "language_info": {
      "name": "python"
    }
  },
  "cells": [
    {
      "cell_type": "markdown",
      "metadata": {
        "id": "view-in-github",
        "colab_type": "text"
      },
      "source": [
        "<a href=\"https://colab.research.google.com/github/Alishahed/python-reference/blob/main/python_set.ipynb\" target=\"_parent\"><img src=\"https://colab.research.google.com/assets/colab-badge.svg\" alt=\"Open In Colab\"/></a>"
      ]
    },
    {
      "cell_type": "markdown",
      "source": [
        "# Set\n",
        "### Methods"
      ],
      "metadata": {
        "id": "j3_A9CDsKHbY"
      }
    },
    {
      "cell_type": "code",
      "execution_count": 1,
      "metadata": {
        "colab": {
          "base_uri": "https://localhost:8080/"
        },
        "id": "FeST5Or9IwMK",
        "outputId": "0243a9b9-d4e8-4b24-e4a4-7ee88bccc9bc"
      },
      "outputs": [
        {
          "output_type": "stream",
          "name": "stdout",
          "text": [
            "{1}\n",
            "{1, 2}\n",
            "{1, 2, 3, 4, 5, 6, 7, 8, 9, 10}\n",
            "{1, 2, 3, 4, 6, 7, 8, 9, 10}\n",
            "{1, 2, 3, 4, 6, 7, 8, 9, 10}\n",
            "{1, 2, 3, 4, 6, 7, 9}\n"
          ]
        }
      ],
      "source": [
        "# initialize empty set\n",
        "my_set = set()\n",
        "# add an item to my_set\n",
        "my_set.add(1)\n",
        "print(my_set)\n",
        "my_set.add(2)\n",
        "print(my_set)\n",
        "# add more than one item at once\n",
        "my_set.update([3,4,5,6,7,8,9,10])\n",
        "print(my_set)\n",
        "# remove one item\n",
        "my_set.remove(5)\n",
        "print(my_set)\n",
        "# discard is similar to remove but it doesn't raise error if the element is not\n",
        "# the set.\n",
        "my_set.discard(5)\n",
        "print(my_set)\n",
        "# removing multiple items at the same time.\n",
        "my_set.difference_update([8,10])\n",
        "print(my_set)"
      ]
    },
    {
      "cell_type": "code",
      "source": [],
      "metadata": {
        "id": "dwLVzMMUK1mA"
      },
      "execution_count": 1,
      "outputs": []
    }
  ]
}