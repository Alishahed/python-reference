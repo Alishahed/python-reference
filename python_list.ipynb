{
  "nbformat": 4,
  "nbformat_minor": 0,
  "metadata": {
    "colab": {
      "provenance": [],
      "authorship_tag": "ABX9TyOYh6rOkTL163qaOFDyqKoU",
      "include_colab_link": true
    },
    "kernelspec": {
      "name": "python3",
      "display_name": "Python 3"
    },
    "language_info": {
      "name": "python"
    }
  },
  "cells": [
    {
      "cell_type": "markdown",
      "metadata": {
        "id": "view-in-github",
        "colab_type": "text"
      },
      "source": [
        "<a href=\"https://colab.research.google.com/github/Alishahed/python-reference/blob/main/python_list.ipynb\" target=\"_parent\"><img src=\"https://colab.research.google.com/assets/colab-badge.svg\" alt=\"Open In Colab\"/></a>"
      ]
    },
    {
      "cell_type": "markdown",
      "source": [
        "# Lists\n",
        "### Methods"
      ],
      "metadata": {
        "id": "MqvhRFpOdouQ"
      }
    },
    {
      "cell_type": "code",
      "source": [
        "# return a list form a sequence\n",
        "s = \"ali shahed hagh ghadam\"\n",
        "out = list(s)\n",
        "print(out)\n",
        "print(type(out))"
      ],
      "metadata": {
        "colab": {
          "base_uri": "https://localhost:8080/"
        },
        "outputId": "26f4fc5b-3fc3-42b9-f10c-79a016782c99",
        "id": "vDPy1srtdouR"
      },
      "execution_count": null,
      "outputs": [
        {
          "output_type": "stream",
          "name": "stdout",
          "text": [
            "['a', 'l', 'i', ' ', 's', 'h', 'a', 'h', 'e', 'd', ' ', 'h', 'a', 'g', 'h', ' ', 'g', 'h', 'a', 'd', 'a', 'm']\n",
            "<class 'list'>\n"
          ]
        }
      ]
    },
    {
      "cell_type": "code",
      "source": [
        "#adding an item to a list\n",
        "l = ['ali','shahed']\n",
        "l.append('hagh')\n",
        "print(l)"
      ],
      "metadata": {
        "colab": {
          "base_uri": "https://localhost:8080/"
        },
        "outputId": "7a325485-af9a-4d76-c775-bf404b7427e5",
        "id": "wIltUikxdouR"
      },
      "execution_count": null,
      "outputs": [
        {
          "output_type": "stream",
          "name": "stdout",
          "text": [
            "['ali', 'shahed', 'hagh']\n"
          ]
        }
      ]
    },
    {
      "cell_type": "code",
      "source": [
        "# add a list to another list\n",
        "l = ['ali','shahed']\n",
        "l1 = ['hagh','ghadam']\n",
        "l.extend(l1)\n",
        "print(l)\n"
      ],
      "metadata": {
        "colab": {
          "base_uri": "https://localhost:8080/"
        },
        "outputId": "fbfd9854-8f98-4d9b-9882-23afd8f85b7c",
        "id": "L4Ey79scdouR"
      },
      "execution_count": null,
      "outputs": [
        {
          "output_type": "stream",
          "name": "stdout",
          "text": [
            "['ali', 'shahed', 'hagh', 'ghadam']\n"
          ]
        }
      ]
    },
    {
      "cell_type": "code",
      "source": [
        "# returns index of certain item\n",
        "out = l.index('hagh')\n",
        "print(out)\n"
      ],
      "metadata": {
        "colab": {
          "base_uri": "https://localhost:8080/"
        },
        "outputId": "80caaa2b-65b2-423e-bdcf-f77cbe2e1b85",
        "id": "C7gVaMiudouS"
      },
      "execution_count": null,
      "outputs": [
        {
          "output_type": "stream",
          "name": "stdout",
          "text": [
            "2\n"
          ]
        }
      ]
    },
    {
      "cell_type": "code",
      "source": [
        "#inserting an item in the list\n",
        "l.insert(0,'Mr.')\n",
        "print(l)\n",
        "# Note: index first, item second"
      ],
      "metadata": {
        "colab": {
          "base_uri": "https://localhost:8080/"
        },
        "outputId": "8c30f013-ef0e-413e-e996-fee1b75370b3",
        "id": "LZmggX4mdouS"
      },
      "execution_count": null,
      "outputs": [
        {
          "output_type": "stream",
          "name": "stdout",
          "text": [
            "['Mr.', 'ali', 'shahed', 'hagh', 'ghadam']\n"
          ]
        }
      ]
    },
    {
      "cell_type": "code",
      "source": [
        "# popping an item from certain index\n",
        "l.pop()\n",
        "print(l)\n",
        "l.pop(2)\n",
        "print(l)"
      ],
      "metadata": {
        "colab": {
          "base_uri": "https://localhost:8080/"
        },
        "outputId": "bd23dd6c-4838-455a-cf9f-36a7c08f9d1c",
        "id": "dYGBWOwbdouS"
      },
      "execution_count": null,
      "outputs": [
        {
          "output_type": "stream",
          "name": "stdout",
          "text": [
            "['Mr.', 'ali', 'shahed', 'hagh']\n",
            "['Mr.', 'ali', 'hagh']\n"
          ]
        }
      ]
    },
    {
      "cell_type": "code",
      "source": [
        "l = ['Mr.', 'ali', 'shahed', 'hagh', 'ghadam']\n",
        "l.remove('Mr.')\n",
        "print(l)"
      ],
      "metadata": {
        "colab": {
          "base_uri": "https://localhost:8080/"
        },
        "outputId": "83088a19-ba03-4c97-eef5-39beff1a5e0a",
        "id": "b87zzPCKdouS"
      },
      "execution_count": null,
      "outputs": [
        {
          "output_type": "stream",
          "name": "stdout",
          "text": [
            "['ali', 'shahed', 'hagh', 'ghadam']\n"
          ]
        }
      ]
    },
    {
      "cell_type": "code",
      "source": [
        "l.reverse()\n",
        "print(l)"
      ],
      "metadata": {
        "colab": {
          "base_uri": "https://localhost:8080/"
        },
        "outputId": "b4253b79-d93e-4266-f12c-cc5e01e2e681",
        "id": "ZRIQKD6_douS"
      },
      "execution_count": null,
      "outputs": [
        {
          "output_type": "stream",
          "name": "stdout",
          "text": [
            "['ghadam', 'hagh', 'shahed', 'ali']\n"
          ]
        }
      ]
    },
    {
      "cell_type": "code",
      "source": [
        "l.sort()\n",
        "print(l)\n",
        "l.sort(key=lambda x:x[-1],reverse= True)\n",
        "print(l)\n",
        "#Note that l.sort() changes the list inplace but sorted(l) returns a new sorted list."
      ],
      "metadata": {
        "colab": {
          "base_uri": "https://localhost:8080/"
        },
        "outputId": "70063df4-cec6-4693-dad4-4a01645a9a7a",
        "id": "hrPrQMsbdouS"
      },
      "execution_count": null,
      "outputs": [
        {
          "output_type": "stream",
          "name": "stdout",
          "text": [
            "['ali', 'ghadam', 'hagh', 'shahed']\n",
            "['ghadam', 'ali', 'hagh', 'shahed']\n"
          ]
        }
      ]
    },
    {
      "cell_type": "markdown",
      "source": [
        "### List comprehension"
      ],
      "metadata": {
        "id": "_kVwHvIxdouS"
      }
    },
    {
      "cell_type": "code",
      "source": [
        "l = ['Mr.', 'ali', 'shahed', 'hagh', 'ghadam']\n",
        "length_l = [len(x) for x in l]\n",
        "print(length_l)\n",
        "drop_a = [x.replace(\"a\",\"\") for x in l]\n",
        "print(drop_a)\n",
        "rev_string = [x[::-1] for x in l]\n",
        "print(rev_string)\n",
        "rev_condition = [x[::-1] for x in l if x[0] == \"s\"]\n",
        "print(rev_condition)\n",
        "rev_condition1 = [x[::-1] if \"gh\" in x else x for x in l]\n",
        "print(rev_condition1)"
      ],
      "metadata": {
        "colab": {
          "base_uri": "https://localhost:8080/"
        },
        "outputId": "33f84780-46dd-464d-ef5c-99055d6e0594",
        "id": "PMQ285e1douS"
      },
      "execution_count": null,
      "outputs": [
        {
          "output_type": "stream",
          "name": "stdout",
          "text": [
            "[3, 3, 6, 4, 6]\n",
            "['Mr.', 'li', 'shhed', 'hgh', 'ghdm']\n",
            "['.rM', 'ila', 'dehahs', 'hgah', 'madahg']\n",
            "['dehahs']\n",
            "['Mr.', 'ali', 'shahed', 'hgah', 'madahg']\n"
          ]
        }
      ]
    }
  ]
}